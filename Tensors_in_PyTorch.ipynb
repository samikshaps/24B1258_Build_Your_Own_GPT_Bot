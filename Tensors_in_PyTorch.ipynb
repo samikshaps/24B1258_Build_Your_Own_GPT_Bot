{
  "nbformat": 4,
  "nbformat_minor": 0,
  "metadata": {
    "colab": {
      "provenance": [],
      "gpuType": "T4"
    },
    "kernelspec": {
      "name": "python3",
      "display_name": "Python 3"
    },
    "language_info": {
      "name": "python"
    },
    "accelerator": "GPU"
  },
  "cells": [
    {
      "cell_type": "code",
      "execution_count": 1,
      "metadata": {
        "colab": {
          "base_uri": "https://localhost:8080/"
        },
        "id": "NbdaSkydqjcw",
        "outputId": "74e02d8e-dfbc-4d78-f7a0-06813f933ecb"
      },
      "outputs": [
        {
          "output_type": "stream",
          "name": "stdout",
          "text": [
            "2.6.0+cu124\n"
          ]
        }
      ],
      "source": [
        "import torch\n",
        "print(torch.__version__)"
      ]
    },
    {
      "cell_type": "code",
      "source": [
        "if torch.cuda.is_available():\n",
        "  print(\"GPU is available\")\n",
        "  print(f\"Using GPU: {torch.cuda.get_device_name(0)}\")\n",
        "else:\n",
        "  print(\"GPU not available. Using CPU\")\n",
        "\n",
        "#go to runtime type and change it to T4 GPU"
      ],
      "metadata": {
        "colab": {
          "base_uri": "https://localhost:8080/"
        },
        "id": "mxzxzl_GubeL",
        "outputId": "5e8ab3cb-1815-4f53-c92b-bf691012c983"
      },
      "execution_count": 2,
      "outputs": [
        {
          "output_type": "stream",
          "name": "stdout",
          "text": [
            "GPU is available\n",
            "Using GPU: Tesla T4\n"
          ]
        }
      ]
    },
    {
      "cell_type": "code",
      "source": [
        "# @title Creating Tensors"
      ],
      "metadata": {
        "cellView": "form",
        "id": "4bp_uqdSygdT"
      },
      "execution_count": null,
      "outputs": []
    },
    {
      "cell_type": "code",
      "source": [
        "#using empty\n",
        "a = torch.empty(2,3)\n",
        "#allocates a space of 2,3 and these values are the values that are already present in that space"
      ],
      "metadata": {
        "id": "n2fTyFkEwt8m"
      },
      "execution_count": null,
      "outputs": []
    },
    {
      "cell_type": "code",
      "source": [
        "#check type\n",
        "type(a)"
      ],
      "metadata": {
        "colab": {
          "base_uri": "https://localhost:8080/"
        },
        "id": "lv5UUgXcxHF2",
        "outputId": "a2b63fe6-af70-45d8-9207-b53cede11470"
      },
      "execution_count": null,
      "outputs": [
        {
          "output_type": "execute_result",
          "data": {
            "text/plain": [
              "torch.Tensor"
            ]
          },
          "metadata": {},
          "execution_count": 10
        }
      ]
    },
    {
      "cell_type": "code",
      "source": [
        "#using zeros\n",
        "torch.zeros(2,3)"
      ],
      "metadata": {
        "colab": {
          "base_uri": "https://localhost:8080/"
        },
        "id": "1DV7ikgYxThG",
        "outputId": "39a12988-9daa-4bd7-942c-289475589159"
      },
      "execution_count": null,
      "outputs": [
        {
          "output_type": "execute_result",
          "data": {
            "text/plain": [
              "tensor([[0., 0., 0.],\n",
              "        [0., 0., 0.]])"
            ]
          },
          "metadata": {},
          "execution_count": 12
        }
      ]
    },
    {
      "cell_type": "code",
      "source": [
        "#using rand\n",
        "torch.rand(2,3)\n",
        "#this gives different tensor everytime its run\n",
        "#what if I want same tensor ?"
      ],
      "metadata": {
        "colab": {
          "base_uri": "https://localhost:8080/"
        },
        "id": "EaTHUcWlxfR3",
        "outputId": "80da49ac-2172-4dfa-878e-afbfda927e80"
      },
      "execution_count": null,
      "outputs": [
        {
          "output_type": "execute_result",
          "data": {
            "text/plain": [
              "tensor([[0.2476, 0.5165, 0.4500],\n",
              "        [0.9968, 0.9239, 0.9188]])"
            ]
          },
          "metadata": {},
          "execution_count": 13
        }
      ]
    },
    {
      "cell_type": "code",
      "source": [
        "#using seed\n",
        "torch.manual_seed(100)\n",
        "torch.rand(2,3)"
      ],
      "metadata": {
        "colab": {
          "base_uri": "https://localhost:8080/"
        },
        "id": "zHpPKYh8xjx0",
        "outputId": "944a30fa-e88a-42e7-d20c-bfdea2f4c92d"
      },
      "execution_count": null,
      "outputs": [
        {
          "output_type": "execute_result",
          "data": {
            "text/plain": [
              "tensor([[0.1117, 0.8158, 0.2626],\n",
              "        [0.4839, 0.6765, 0.7539]])"
            ]
          },
          "metadata": {},
          "execution_count": 15
        }
      ]
    },
    {
      "cell_type": "code",
      "source": [
        "#using tensor\n",
        "torch.tensor([[1,2,3],[4,5,6]])\n"
      ],
      "metadata": {
        "colab": {
          "base_uri": "https://localhost:8080/"
        },
        "id": "WDooupCPx68e",
        "outputId": "56182e50-5977-4585-e940-a4b2208c6c9a"
      },
      "execution_count": null,
      "outputs": [
        {
          "output_type": "execute_result",
          "data": {
            "text/plain": [
              "tensor([[1, 2, 3],\n",
              "        [4, 5, 6]])"
            ]
          },
          "metadata": {},
          "execution_count": 16
        }
      ]
    },
    {
      "cell_type": "code",
      "source": [
        "#other ways\n",
        "\n",
        "#using arange\n",
        "print(\"using arange -->\", torch.arange(0,10,2)) #give start stop step value\n",
        "\n",
        "#linspace\n",
        "print(\"using linspace -->\", torch.linspace(0,10,10)) #gets evenly spaced values\n",
        "\n",
        "#using eye - eye for identity matrix\n",
        "print(\"using eye -->\", torch.eye(5))\n",
        "\n",
        "#using full\n",
        "print(\"using full -->\", torch.full((3,3),5))\n"
      ],
      "metadata": {
        "colab": {
          "base_uri": "https://localhost:8080/"
        },
        "id": "Ckguvo8ZyauY",
        "outputId": "3a5b4b91-7ab4-43c1-da3b-52c1f3012990"
      },
      "execution_count": null,
      "outputs": [
        {
          "output_type": "stream",
          "name": "stdout",
          "text": [
            "using arange --> tensor([0, 2, 4, 6, 8])\n",
            "using linspace --> tensor([ 0.0000,  1.1111,  2.2222,  3.3333,  4.4444,  5.5556,  6.6667,  7.7778,\n",
            "         8.8889, 10.0000])\n",
            "using eye --> tensor([[1., 0., 0., 0., 0.],\n",
            "        [0., 1., 0., 0., 0.],\n",
            "        [0., 0., 1., 0., 0.],\n",
            "        [0., 0., 0., 1., 0.],\n",
            "        [0., 0., 0., 0., 1.]])\n",
            "using full --> tensor([[5, 5, 5],\n",
            "        [5, 5, 5],\n",
            "        [5, 5, 5]])\n"
          ]
        }
      ]
    },
    {
      "cell_type": "code",
      "source": [
        "# @title Tensor Shapes"
      ],
      "metadata": {
        "id": "YW9hOoBTzFV8"
      },
      "execution_count": null,
      "outputs": []
    },
    {
      "cell_type": "code",
      "source": [
        "x = torch.tensor([[1,2,3],[4,5,6]])"
      ],
      "metadata": {
        "id": "1UsQq1Wxzrfe"
      },
      "execution_count": null,
      "outputs": []
    },
    {
      "cell_type": "code",
      "source": [
        "x.shape"
      ],
      "metadata": {
        "colab": {
          "base_uri": "https://localhost:8080/"
        },
        "id": "VbkCUx7S0Opo",
        "outputId": "0def602a-6f95-45d0-e0c1-42f3ce628915"
      },
      "execution_count": null,
      "outputs": [
        {
          "output_type": "execute_result",
          "data": {
            "text/plain": [
              "torch.Size([2, 3])"
            ]
          },
          "metadata": {},
          "execution_count": 23
        }
      ]
    },
    {
      "cell_type": "code",
      "source": [
        "#creating a tensor with the same size as x\n",
        "torch.empty_like(x)"
      ],
      "metadata": {
        "colab": {
          "base_uri": "https://localhost:8080/"
        },
        "id": "Y8JmhoAr0VhD",
        "outputId": "9617c472-b10a-4c92-d17d-39ddefe0fec8"
      },
      "execution_count": null,
      "outputs": [
        {
          "output_type": "execute_result",
          "data": {
            "text/plain": [
              "tensor([[3616445622929465956, 6066683143785557301, 3617861884435903536],\n",
              "        [6499591696604936494, 7309453675965983778, 8315168162784306286]])"
            ]
          },
          "metadata": {},
          "execution_count": 24
        }
      ]
    },
    {
      "cell_type": "code",
      "source": [
        "torch.zeros_like(x)"
      ],
      "metadata": {
        "colab": {
          "base_uri": "https://localhost:8080/"
        },
        "id": "IKZk4Gkg0hSJ",
        "outputId": "735a7b22-8534-4515-cbba-71d594ec1b21"
      },
      "execution_count": null,
      "outputs": [
        {
          "output_type": "execute_result",
          "data": {
            "text/plain": [
              "tensor([[0, 0, 0],\n",
              "        [0, 0, 0]])"
            ]
          },
          "metadata": {},
          "execution_count": 25
        }
      ]
    },
    {
      "cell_type": "code",
      "source": [
        "torch.ones_like(x)"
      ],
      "metadata": {
        "colab": {
          "base_uri": "https://localhost:8080/"
        },
        "id": "QcCLRlo20lHz",
        "outputId": "0086e049-3646-41aa-a93b-204f65fad985"
      },
      "execution_count": null,
      "outputs": [
        {
          "output_type": "execute_result",
          "data": {
            "text/plain": [
              "tensor([[1, 1, 1],\n",
              "        [1, 1, 1]])"
            ]
          },
          "metadata": {},
          "execution_count": 26
        }
      ]
    },
    {
      "cell_type": "code",
      "source": [
        "torch.rand_like(x)\n",
        "#error because rand generates floating point numbers and our x has integer elements"
      ],
      "metadata": {
        "colab": {
          "base_uri": "https://localhost:8080/",
          "height": 158
        },
        "id": "HDpH_P5Z0nQl",
        "outputId": "9de75722-6ff5-4c4e-823d-40340a1e0690"
      },
      "execution_count": null,
      "outputs": [
        {
          "output_type": "error",
          "ename": "RuntimeError",
          "evalue": "\"check_uniform_bounds\" not implemented for 'Long'",
          "traceback": [
            "\u001b[0;31m---------------------------------------------------------------------------\u001b[0m",
            "\u001b[0;31mRuntimeError\u001b[0m                              Traceback (most recent call last)",
            "\u001b[0;32m<ipython-input-37-9d4a89ea178b>\u001b[0m in \u001b[0;36m<cell line: 0>\u001b[0;34m()\u001b[0m\n\u001b[0;32m----> 1\u001b[0;31m \u001b[0mtorch\u001b[0m\u001b[0;34m.\u001b[0m\u001b[0mrand_like\u001b[0m\u001b[0;34m(\u001b[0m\u001b[0mx\u001b[0m\u001b[0;34m)\u001b[0m\u001b[0;34m\u001b[0m\u001b[0;34m\u001b[0m\u001b[0m\n\u001b[0m\u001b[1;32m      2\u001b[0m \u001b[0;31m#error because rand generates floating point numbers and our x has integer elements\u001b[0m\u001b[0;34m\u001b[0m\u001b[0;34m\u001b[0m\u001b[0m\n",
            "\u001b[0;31mRuntimeError\u001b[0m: \"check_uniform_bounds\" not implemented for 'Long'"
          ]
        }
      ]
    },
    {
      "cell_type": "code",
      "source": [
        "#solution:\n",
        "torch.rand_like(x, dtype=torch.float32)"
      ],
      "metadata": {
        "colab": {
          "base_uri": "https://localhost:8080/"
        },
        "id": "RAdPdkeJ4U0j",
        "outputId": "3a234780-52f5-44c6-88bb-a19b05ba0388"
      },
      "execution_count": null,
      "outputs": [
        {
          "output_type": "execute_result",
          "data": {
            "text/plain": [
              "tensor([[0.2627, 0.0428, 0.2080],\n",
              "        [0.1180, 0.1217, 0.7356]])"
            ]
          },
          "metadata": {},
          "execution_count": 38
        }
      ]
    },
    {
      "cell_type": "code",
      "source": [
        "# @title Data Types"
      ],
      "metadata": {
        "cellView": "form",
        "id": "x8FTxnwM4aTQ"
      },
      "execution_count": null,
      "outputs": []
    },
    {
      "cell_type": "code",
      "source": [
        "#finding data type\n",
        "x.dtype"
      ],
      "metadata": {
        "colab": {
          "base_uri": "https://localhost:8080/"
        },
        "id": "cS7JgRco3IBB",
        "outputId": "892d7a5b-c35a-435b-f0c8-aee781ea5afa"
      },
      "execution_count": null,
      "outputs": [
        {
          "output_type": "execute_result",
          "data": {
            "text/plain": [
              "torch.int64"
            ]
          },
          "metadata": {},
          "execution_count": 30
        }
      ]
    },
    {
      "cell_type": "code",
      "source": [
        "#assign data type\n",
        "torch.tensor([1.0, 2.0, 3.0], dtype=torch.int32)"
      ],
      "metadata": {
        "colab": {
          "base_uri": "https://localhost:8080/"
        },
        "id": "W-gk-rA33LOz",
        "outputId": "6b4c3a8a-51a4-4b8d-aebf-bd7740a64d43"
      },
      "execution_count": null,
      "outputs": [
        {
          "output_type": "execute_result",
          "data": {
            "text/plain": [
              "tensor([1, 2, 3], dtype=torch.int32)"
            ]
          },
          "metadata": {},
          "execution_count": 31
        }
      ]
    },
    {
      "cell_type": "code",
      "source": [
        "torch.tensor([1,2,3], dtype=torch.float64)"
      ],
      "metadata": {
        "colab": {
          "base_uri": "https://localhost:8080/"
        },
        "id": "LlayMhFN3UrR",
        "outputId": "6520df0e-4084-4945-9117-2315814fe416"
      },
      "execution_count": null,
      "outputs": [
        {
          "output_type": "execute_result",
          "data": {
            "text/plain": [
              "tensor([1., 2., 3.], dtype=torch.float64)"
            ]
          },
          "metadata": {},
          "execution_count": 33
        }
      ]
    },
    {
      "cell_type": "code",
      "source": [
        "#using to()\n",
        "x.to(torch.float32)"
      ],
      "metadata": {
        "colab": {
          "base_uri": "https://localhost:8080/"
        },
        "id": "koVZew823yEC",
        "outputId": "849c6b76-c713-4dc9-e59d-a8a106939bdc"
      },
      "execution_count": null,
      "outputs": [
        {
          "output_type": "execute_result",
          "data": {
            "text/plain": [
              "tensor([[1., 2., 3.],\n",
              "        [4., 5., 6.]])"
            ]
          },
          "metadata": {},
          "execution_count": 34
        }
      ]
    },
    {
      "cell_type": "code",
      "source": [
        "# @title Mathematical Operations"
      ],
      "metadata": {
        "id": "Dft2fsSA36Hz"
      },
      "execution_count": null,
      "outputs": []
    },
    {
      "cell_type": "code",
      "source": [
        "# @title 1. Scalar Operations"
      ],
      "metadata": {
        "id": "wb2d4HKF4qVh"
      },
      "execution_count": null,
      "outputs": []
    },
    {
      "cell_type": "code",
      "source": [
        "x = torch.rand(2,2)\n",
        "x"
      ],
      "metadata": {
        "colab": {
          "base_uri": "https://localhost:8080/"
        },
        "id": "5et_pmaH40pC",
        "outputId": "9c75ce1b-1d51-4bc6-c0c1-da4b6fb54ba7"
      },
      "execution_count": null,
      "outputs": [
        {
          "output_type": "execute_result",
          "data": {
            "text/plain": [
              "tensor([[0.9969, 0.7565],\n",
              "        [0.2239, 0.3023]])"
            ]
          },
          "metadata": {},
          "execution_count": 43
        }
      ]
    },
    {
      "cell_type": "code",
      "source": [
        "#addition\n",
        "x+2\n",
        "#subtraction\n",
        "x-2\n",
        "#multiplication\n",
        "x*2\n",
        "#division\n",
        "x/2\n",
        "#integer division\n",
        "(x*100) // 2\n",
        "#mod\n",
        "((x*100) // 2)%2\n",
        "#power\n",
        "x**2\n",
        "\n",
        "#all operations done element wise"
      ],
      "metadata": {
        "colab": {
          "base_uri": "https://localhost:8080/"
        },
        "id": "3y3OJ0Ke449s",
        "outputId": "b2846240-fb0d-425d-fb70-40af6520c641"
      },
      "execution_count": null,
      "outputs": [
        {
          "output_type": "execute_result",
          "data": {
            "text/plain": [
              "tensor([[0.9938, 0.5723],\n",
              "        [0.0501, 0.0914]])"
            ]
          },
          "metadata": {},
          "execution_count": 45
        }
      ]
    },
    {
      "cell_type": "code",
      "source": [
        "# @title 2. Element Wise Operation"
      ],
      "metadata": {
        "id": "nbzwACsp5RoF"
      },
      "execution_count": null,
      "outputs": []
    },
    {
      "cell_type": "code",
      "source": [
        "a = torch.rand(2,3)\n",
        "b = torch.rand(2,3)\n",
        "print(a)\n",
        "print(b)\n",
        "# you can add subtract multiply divide mod etc and they all go element wise"
      ],
      "metadata": {
        "colab": {
          "base_uri": "https://localhost:8080/"
        },
        "id": "IJutEVA65hZz",
        "outputId": "0fe42806-3f3e-4ebb-e79d-902cdfb887fb"
      },
      "execution_count": null,
      "outputs": [
        {
          "output_type": "stream",
          "name": "stdout",
          "text": [
            "tensor([[0.7909, 0.4235, 0.0169],\n",
            "        [0.2209, 0.9535, 0.7064]])\n",
            "tensor([[0.1629, 0.8902, 0.5163],\n",
            "        [0.0359, 0.6476, 0.3430]])\n"
          ]
        }
      ]
    },
    {
      "cell_type": "code",
      "source": [
        "c = torch.tensor([1,-2,3,-4])"
      ],
      "metadata": {
        "id": "aqqXyUe15pJq"
      },
      "execution_count": null,
      "outputs": []
    },
    {
      "cell_type": "code",
      "source": [
        "#abs\n",
        "torch.abs(c)"
      ],
      "metadata": {
        "colab": {
          "base_uri": "https://localhost:8080/"
        },
        "id": "VMugcGho59j-",
        "outputId": "e6f95a54-15fc-41f4-f29c-d13d5209235a"
      },
      "execution_count": null,
      "outputs": [
        {
          "output_type": "execute_result",
          "data": {
            "text/plain": [
              "tensor([1, 2, 3, 4])"
            ]
          },
          "metadata": {},
          "execution_count": 51
        }
      ]
    },
    {
      "cell_type": "code",
      "source": [
        "#negative\n",
        "torch.neg(c)"
      ],
      "metadata": {
        "colab": {
          "base_uri": "https://localhost:8080/"
        },
        "id": "QzQDofGJ6AOv",
        "outputId": "dd13f717-cbcd-463b-f16a-51856bc47680"
      },
      "execution_count": null,
      "outputs": [
        {
          "output_type": "execute_result",
          "data": {
            "text/plain": [
              "tensor([-1,  2, -3,  4])"
            ]
          },
          "metadata": {},
          "execution_count": 52
        }
      ]
    },
    {
      "cell_type": "code",
      "source": [
        "d = torch.tensor([1.9,2.3,3.7,4.4])"
      ],
      "metadata": {
        "id": "rWKFoxtL6E5_"
      },
      "execution_count": null,
      "outputs": []
    },
    {
      "cell_type": "code",
      "source": [
        "#round\n",
        "torch.round(d)"
      ],
      "metadata": {
        "colab": {
          "base_uri": "https://localhost:8080/"
        },
        "id": "hZ1PQVBq6LEQ",
        "outputId": "3d6069e3-2670-42d6-9411-c66dd4d954a1"
      },
      "execution_count": null,
      "outputs": [
        {
          "output_type": "execute_result",
          "data": {
            "text/plain": [
              "tensor([2., 2., 4., 4.])"
            ]
          },
          "metadata": {},
          "execution_count": 55
        }
      ]
    },
    {
      "cell_type": "code",
      "source": [
        "#ceil - opp to gif\n",
        "torch.ceil(d)"
      ],
      "metadata": {
        "colab": {
          "base_uri": "https://localhost:8080/"
        },
        "id": "dMkNiQ3O6OQE",
        "outputId": "4662b9d5-e5b7-4e66-f168-d04323706ea4"
      },
      "execution_count": null,
      "outputs": [
        {
          "output_type": "execute_result",
          "data": {
            "text/plain": [
              "tensor([2., 3., 4., 5.])"
            ]
          },
          "metadata": {},
          "execution_count": 58
        }
      ]
    },
    {
      "cell_type": "code",
      "source": [
        "#floor - just removes the decimal part\n",
        "torch.floor(d)"
      ],
      "metadata": {
        "colab": {
          "base_uri": "https://localhost:8080/"
        },
        "id": "WxYqnpab6d8u",
        "outputId": "feb181ee-edd5-4a31-f3d9-13af7155eeb0"
      },
      "execution_count": null,
      "outputs": [
        {
          "output_type": "execute_result",
          "data": {
            "text/plain": [
              "tensor([1., 2., 3., 4.])"
            ]
          },
          "metadata": {},
          "execution_count": 59
        }
      ]
    },
    {
      "cell_type": "code",
      "source": [
        "#clamp - rounds off but has boundaries\n",
        "torch.clamp(d, min=2, max=3)"
      ],
      "metadata": {
        "colab": {
          "base_uri": "https://localhost:8080/"
        },
        "id": "F86JMpa96VAq",
        "outputId": "4ad85911-b076-4c01-9af1-93d31907dc6a"
      },
      "execution_count": null,
      "outputs": [
        {
          "output_type": "execute_result",
          "data": {
            "text/plain": [
              "tensor([2.0000, 2.3000, 3.0000, 3.0000])"
            ]
          },
          "metadata": {},
          "execution_count": 57
        }
      ]
    },
    {
      "cell_type": "code",
      "source": [
        "# @title 3. Reduction operations"
      ],
      "metadata": {
        "id": "IwgQaw2H6aku"
      },
      "execution_count": null,
      "outputs": []
    },
    {
      "cell_type": "code",
      "source": [
        "e = torch.randint(size=(2,3), low=0, high=10)\n",
        "e"
      ],
      "metadata": {
        "colab": {
          "base_uri": "https://localhost:8080/"
        },
        "id": "9MsnXuFr6y0L",
        "outputId": "0dee46f6-67bb-4cd6-98f2-ce45006c0a7b"
      },
      "execution_count": null,
      "outputs": [
        {
          "output_type": "execute_result",
          "data": {
            "text/plain": [
              "tensor([[7, 9, 2],\n",
              "        [6, 7, 7]])"
            ]
          },
          "metadata": {},
          "execution_count": 78
        }
      ]
    },
    {
      "cell_type": "code",
      "source": [
        "#sum all elements\n",
        "print(torch.sum(e))\n",
        "#sum along columns\n",
        "print(torch.sum(e,dim=0))\n",
        "#sum along rows\n",
        "print(torch.sum(e,dim=1))\n",
        "\n",
        "#remember that 0 refers to columns and 1 refers to rows"
      ],
      "metadata": {
        "colab": {
          "base_uri": "https://localhost:8080/"
        },
        "id": "3df3nCcc6_sF",
        "outputId": "f48377c3-8cf9-4ed0-e0a5-960ee45e6f36"
      },
      "execution_count": null,
      "outputs": [
        {
          "output_type": "stream",
          "name": "stdout",
          "text": [
            "tensor(38)\n",
            "tensor([13, 16,  9])\n",
            "tensor([18, 20])\n"
          ]
        }
      ]
    },
    {
      "cell_type": "code",
      "source": [
        "#mean\n",
        "torch.mean(e, dtype=torch.float32)\n",
        "#you can calculate along columns and rows similarly"
      ],
      "metadata": {
        "colab": {
          "base_uri": "https://localhost:8080/"
        },
        "id": "n_PFKP_Q7DBd",
        "outputId": "dc46ddb6-29ce-44ef-e40f-bc65bbdf0cc8"
      },
      "execution_count": null,
      "outputs": [
        {
          "output_type": "execute_result",
          "data": {
            "text/plain": [
              "tensor(6.3333)"
            ]
          },
          "metadata": {},
          "execution_count": 80
        }
      ]
    },
    {
      "cell_type": "code",
      "source": [
        "#median\n",
        "torch.median(e)"
      ],
      "metadata": {
        "colab": {
          "base_uri": "https://localhost:8080/"
        },
        "id": "g_ek-dml9vkv",
        "outputId": "e310ab69-ab79-4a35-8dc0-015035966862"
      },
      "execution_count": null,
      "outputs": [
        {
          "output_type": "execute_result",
          "data": {
            "text/plain": [
              "tensor(7)"
            ]
          },
          "metadata": {},
          "execution_count": 81
        }
      ]
    },
    {
      "cell_type": "code",
      "source": [
        "#max and min\n",
        "print(torch.max(e))\n",
        "print(torch.min(e))"
      ],
      "metadata": {
        "colab": {
          "base_uri": "https://localhost:8080/"
        },
        "id": "Tjc5q1j8-Ax0",
        "outputId": "678eb206-f393-4998-94cd-8df78d60db7f"
      },
      "execution_count": null,
      "outputs": [
        {
          "output_type": "stream",
          "name": "stdout",
          "text": [
            "tensor(9)\n",
            "tensor(2)\n"
          ]
        }
      ]
    },
    {
      "cell_type": "code",
      "source": [
        "#product\n",
        "torch.prod(e)"
      ],
      "metadata": {
        "colab": {
          "base_uri": "https://localhost:8080/"
        },
        "id": "14bDV8kA-E9Y",
        "outputId": "c0ee86f9-939f-4127-9b0c-f8749eaf9def"
      },
      "execution_count": null,
      "outputs": [
        {
          "output_type": "execute_result",
          "data": {
            "text/plain": [
              "tensor(37044)"
            ]
          },
          "metadata": {},
          "execution_count": 83
        }
      ]
    },
    {
      "cell_type": "code",
      "source": [
        "#standard deviation\n",
        "torch.std(e.float())"
      ],
      "metadata": {
        "colab": {
          "base_uri": "https://localhost:8080/"
        },
        "id": "c4aL8oZT-k0l",
        "outputId": "59d8a55a-2e77-4855-f14a-745952f8ab44"
      },
      "execution_count": null,
      "outputs": [
        {
          "output_type": "execute_result",
          "data": {
            "text/plain": [
              "tensor(2.3381)"
            ]
          },
          "metadata": {},
          "execution_count": 86
        }
      ]
    },
    {
      "cell_type": "code",
      "source": [
        "#variance\n",
        "torch.var(e.float())"
      ],
      "metadata": {
        "colab": {
          "base_uri": "https://localhost:8080/"
        },
        "id": "Cl62ezj__JNZ",
        "outputId": "f263678d-b0b5-4fd8-cad0-bded4a26ebcb"
      },
      "execution_count": null,
      "outputs": [
        {
          "output_type": "execute_result",
          "data": {
            "text/plain": [
              "tensor(5.4667)"
            ]
          },
          "metadata": {},
          "execution_count": 87
        }
      ]
    },
    {
      "cell_type": "code",
      "source": [
        "#argmax - gives the position of the max element\n",
        "torch.argmax(e)"
      ],
      "metadata": {
        "colab": {
          "base_uri": "https://localhost:8080/"
        },
        "id": "YG1qtsPI_sKR",
        "outputId": "08905350-9e99-4bc4-a085-9ef17871a696"
      },
      "execution_count": null,
      "outputs": [
        {
          "output_type": "execute_result",
          "data": {
            "text/plain": [
              "tensor(1)"
            ]
          },
          "metadata": {},
          "execution_count": 90
        }
      ]
    },
    {
      "cell_type": "code",
      "source": [
        "#argmin\n",
        "torch.argmin(e)"
      ],
      "metadata": {
        "colab": {
          "base_uri": "https://localhost:8080/"
        },
        "id": "g7ni_TE5_2Mn",
        "outputId": "2f5babed-555a-44b0-8a92-209b9ff0777a"
      },
      "execution_count": null,
      "outputs": [
        {
          "output_type": "execute_result",
          "data": {
            "text/plain": [
              "tensor(2)"
            ]
          },
          "metadata": {},
          "execution_count": 91
        }
      ]
    },
    {
      "cell_type": "code",
      "source": [
        "# @title Matrix Operations\n",
        "f = torch.randint(size=(2,3), low=0, high=10)\n",
        "g = torch.randint(size=(3,2), low=0, high=10)\n",
        "print(f)\n",
        "print(g)"
      ],
      "metadata": {
        "colab": {
          "base_uri": "https://localhost:8080/"
        },
        "id": "3RwcLCLr_9Cu",
        "outputId": "d5cbca8e-2555-489e-ad3e-d8a391c74290"
      },
      "execution_count": 3,
      "outputs": [
        {
          "output_type": "stream",
          "name": "stdout",
          "text": [
            "tensor([[2, 1, 5],\n",
            "        [4, 0, 1]])\n",
            "tensor([[0, 5],\n",
            "        [5, 1],\n",
            "        [6, 7]])\n"
          ]
        }
      ]
    },
    {
      "cell_type": "code",
      "source": [
        "#matrix multiplication\n",
        "torch.matmul(f,g)"
      ],
      "metadata": {
        "colab": {
          "base_uri": "https://localhost:8080/"
        },
        "id": "x29p1snqCq1v",
        "outputId": "299643bd-c57e-4cb8-f745-7b3de4ae967d"
      },
      "execution_count": 4,
      "outputs": [
        {
          "output_type": "execute_result",
          "data": {
            "text/plain": [
              "tensor([[35, 46],\n",
              "        [ 6, 27]])"
            ]
          },
          "metadata": {},
          "execution_count": 4
        }
      ]
    },
    {
      "cell_type": "code",
      "source": [
        "vector1 = torch.tensor([1,2])\n",
        "vector2 = torch.tensor([3,4])\n",
        "#dot product\n",
        "torch.dot(vector1, vector2)"
      ],
      "metadata": {
        "colab": {
          "base_uri": "https://localhost:8080/"
        },
        "id": "8IqwXnz-C1iW",
        "outputId": "34f812f0-77fd-40bb-b4cf-c90258a967c5"
      },
      "execution_count": 5,
      "outputs": [
        {
          "output_type": "execute_result",
          "data": {
            "text/plain": [
              "tensor(11)"
            ]
          },
          "metadata": {},
          "execution_count": 5
        }
      ]
    },
    {
      "cell_type": "code",
      "source": [
        "#transpose\n",
        "print(f)\n",
        "torch.transpose(f,0,1)"
      ],
      "metadata": {
        "id": "a2kvFhWvDHqU",
        "colab": {
          "base_uri": "https://localhost:8080/"
        },
        "outputId": "7c4cf417-2a00-4993-cb08-258867c55e06"
      },
      "execution_count": 8,
      "outputs": [
        {
          "output_type": "stream",
          "name": "stdout",
          "text": [
            "tensor([[2, 1, 5],\n",
            "        [4, 0, 1]])\n"
          ]
        },
        {
          "output_type": "execute_result",
          "data": {
            "text/plain": [
              "tensor([[2, 4],\n",
              "        [1, 0],\n",
              "        [5, 1]])"
            ]
          },
          "metadata": {},
          "execution_count": 8
        }
      ]
    },
    {
      "cell_type": "code",
      "source": [
        "#determinant\n",
        "h = torch.randint(size=(3,3), high=10, low=0, dtype=torch.float32)\n",
        "print(h)\n",
        "torch.det(h)"
      ],
      "metadata": {
        "colab": {
          "base_uri": "https://localhost:8080/"
        },
        "id": "S4sEABMDaDjI",
        "outputId": "78af2180-8606-484e-aa17-de95f26487df"
      },
      "execution_count": 23,
      "outputs": [
        {
          "output_type": "stream",
          "name": "stdout",
          "text": [
            "tensor([[9., 6., 7.],\n",
            "        [1., 1., 3.],\n",
            "        [6., 5., 8.]])\n"
          ]
        },
        {
          "output_type": "execute_result",
          "data": {
            "text/plain": [
              "tensor(-10.0000)"
            ]
          },
          "metadata": {},
          "execution_count": 23
        }
      ]
    },
    {
      "cell_type": "code",
      "source": [
        "#inverse\n",
        "torch.inverse(h)"
      ],
      "metadata": {
        "colab": {
          "base_uri": "https://localhost:8080/"
        },
        "id": "SYTlCNo5aV6V",
        "outputId": "b8936407-facb-4c0a-8ca9-a55b959c1b15"
      },
      "execution_count": 12,
      "outputs": [
        {
          "output_type": "execute_result",
          "data": {
            "text/plain": [
              "tensor([[-0.0303,  0.1818,  0.0000],\n",
              "        [ 0.2121, -0.2727,  0.0000],\n",
              "        [-0.1364,  0.0682,  0.2500]])"
            ]
          },
          "metadata": {},
          "execution_count": 12
        }
      ]
    },
    {
      "cell_type": "code",
      "source": [
        "# @title Comparison Operations"
      ],
      "metadata": {
        "cellView": "form",
        "id": "s9N-5p_XaowA"
      },
      "execution_count": 13,
      "outputs": []
    },
    {
      "cell_type": "code",
      "source": [
        "#use the normal comparison operators and it gives the boolean values element by element in the matrix"
      ],
      "metadata": {
        "id": "w_5IuAIuatjS"
      },
      "execution_count": null,
      "outputs": []
    },
    {
      "cell_type": "code",
      "source": [
        "# @title Special functions"
      ],
      "metadata": {
        "id": "01l2EM1Pa_p9"
      },
      "execution_count": 14,
      "outputs": []
    },
    {
      "cell_type": "code",
      "source": [
        "k = torch.randint(size=(3,3), high=10, low=0, dtype=torch.float32)\n",
        "k"
      ],
      "metadata": {
        "colab": {
          "base_uri": "https://localhost:8080/"
        },
        "id": "CZxj5z4DbDAi",
        "outputId": "e120bf48-d0de-4723-a234-bb5111f3ef66"
      },
      "execution_count": 21,
      "outputs": [
        {
          "output_type": "execute_result",
          "data": {
            "text/plain": [
              "tensor([[5., 2., 6.],\n",
              "        [4., 5., 2.],\n",
              "        [6., 9., 3.]])"
            ]
          },
          "metadata": {},
          "execution_count": 21
        }
      ]
    },
    {
      "cell_type": "code",
      "source": [
        "torch.log(k)"
      ],
      "metadata": {
        "colab": {
          "base_uri": "https://localhost:8080/"
        },
        "id": "c-nD9UWqbe70",
        "outputId": "f5bcdeec-2dd4-4af6-bcd1-9a7b14617e25"
      },
      "execution_count": 17,
      "outputs": [
        {
          "output_type": "execute_result",
          "data": {
            "text/plain": [
              "tensor([[2.1972, 1.3863, 2.1972],\n",
              "        [1.6094, 1.3863, 1.7918],\n",
              "        [1.0986, 2.1972,   -inf]])"
            ]
          },
          "metadata": {},
          "execution_count": 17
        }
      ]
    },
    {
      "cell_type": "code",
      "source": [
        "torch.exp(k)"
      ],
      "metadata": {
        "colab": {
          "base_uri": "https://localhost:8080/"
        },
        "id": "VvHrlTsFbix7",
        "outputId": "afac5dbe-3610-4c8d-c1c2-6a2bad1e4077"
      },
      "execution_count": 18,
      "outputs": [
        {
          "output_type": "execute_result",
          "data": {
            "text/plain": [
              "tensor([[8.1031e+03, 5.4598e+01, 8.1031e+03],\n",
              "        [1.4841e+02, 5.4598e+01, 4.0343e+02],\n",
              "        [2.0086e+01, 8.1031e+03, 1.0000e+00]])"
            ]
          },
          "metadata": {},
          "execution_count": 18
        }
      ]
    },
    {
      "cell_type": "code",
      "source": [
        "torch.sqrt(k)"
      ],
      "metadata": {
        "colab": {
          "base_uri": "https://localhost:8080/"
        },
        "id": "SvbHOasqbkij",
        "outputId": "a1358478-c5d1-464c-b1ec-63472ab78866"
      },
      "execution_count": 19,
      "outputs": [
        {
          "output_type": "execute_result",
          "data": {
            "text/plain": [
              "tensor([[3.0000, 2.0000, 3.0000],\n",
              "        [2.2361, 2.0000, 2.4495],\n",
              "        [1.7321, 3.0000, 0.0000]])"
            ]
          },
          "metadata": {},
          "execution_count": 19
        }
      ]
    },
    {
      "cell_type": "code",
      "source": [
        "torch.sigmoid(k)"
      ],
      "metadata": {
        "colab": {
          "base_uri": "https://localhost:8080/"
        },
        "id": "6Zgm9nyFblmQ",
        "outputId": "198ac176-3d6b-492d-8b64-985a4a25b757"
      },
      "execution_count": 20,
      "outputs": [
        {
          "output_type": "execute_result",
          "data": {
            "text/plain": [
              "tensor([[0.9999, 0.9820, 0.9999],\n",
              "        [0.9933, 0.9820, 0.9975],\n",
              "        [0.9526, 0.9999, 0.5000]])"
            ]
          },
          "metadata": {},
          "execution_count": 20
        }
      ]
    },
    {
      "cell_type": "code",
      "source": [
        "torch.softmax(k,dim=0)"
      ],
      "metadata": {
        "colab": {
          "base_uri": "https://localhost:8080/"
        },
        "id": "5QZ9TNfGbmtr",
        "outputId": "49fd153f-007e-43b9-de75-4b52978bfb22"
      },
      "execution_count": 24,
      "outputs": [
        {
          "output_type": "execute_result",
          "data": {
            "text/plain": [
              "tensor([[2.4473e-01, 8.9468e-04, 9.3624e-01],\n",
              "        [9.0031e-02, 1.7970e-02, 1.7148e-02],\n",
              "        [6.6524e-01, 9.8114e-01, 4.6613e-02]])"
            ]
          },
          "metadata": {},
          "execution_count": 24
        }
      ]
    },
    {
      "cell_type": "code",
      "source": [
        "torch.relu(k)"
      ],
      "metadata": {
        "colab": {
          "base_uri": "https://localhost:8080/"
        },
        "id": "1k9K3nTObvgF",
        "outputId": "81077349-daba-45b8-8a55-b0bfaba92796"
      },
      "execution_count": 25,
      "outputs": [
        {
          "output_type": "execute_result",
          "data": {
            "text/plain": [
              "tensor([[5., 2., 6.],\n",
              "        [4., 5., 2.],\n",
              "        [6., 9., 3.]])"
            ]
          },
          "metadata": {},
          "execution_count": 25
        }
      ]
    },
    {
      "cell_type": "code",
      "source": [
        "# @title inplace operations"
      ],
      "metadata": {
        "cellView": "form",
        "id": "WiJlKg3jb3cM"
      },
      "execution_count": 27,
      "outputs": []
    },
    {
      "cell_type": "code",
      "source": [
        "m = torch.rand(2,3)\n",
        "n=torch.rand(2,3)\n",
        "print(m)\n",
        "print(n)"
      ],
      "metadata": {
        "colab": {
          "base_uri": "https://localhost:8080/"
        },
        "id": "YBxlG_gecwVy",
        "outputId": "62c58252-8ec5-407d-cb3d-6ee7cc91b595"
      },
      "execution_count": 28,
      "outputs": [
        {
          "output_type": "stream",
          "name": "stdout",
          "text": [
            "tensor([[0.8200, 0.9416, 0.3987],\n",
            "        [0.0318, 0.2164, 0.7032]])\n",
            "tensor([[0.6173, 0.9021, 0.0631],\n",
            "        [0.0929, 0.5545, 0.0848]])\n"
          ]
        }
      ]
    },
    {
      "cell_type": "code",
      "source": [
        "m.add_(n)\n",
        "m\n",
        "#the changes are made to m itself"
      ],
      "metadata": {
        "colab": {
          "base_uri": "https://localhost:8080/"
        },
        "id": "QT75ar3fc6hM",
        "outputId": "1b0757a3-7977-4456-a76e-461eb086c8c3"
      },
      "execution_count": 29,
      "outputs": [
        {
          "output_type": "execute_result",
          "data": {
            "text/plain": [
              "tensor([[1.4373, 1.8437, 0.4618],\n",
              "        [0.1247, 0.7709, 0.7880]])"
            ]
          },
          "metadata": {},
          "execution_count": 29
        }
      ]
    },
    {
      "cell_type": "code",
      "source": [
        "m.relu_()\n",
        "#m tensor is modified instead of creating new one"
      ],
      "metadata": {
        "colab": {
          "base_uri": "https://localhost:8080/"
        },
        "id": "ayYHKOqdc__S",
        "outputId": "7bfe5244-a10e-4482-cbfa-9169785c5560"
      },
      "execution_count": 30,
      "outputs": [
        {
          "output_type": "execute_result",
          "data": {
            "text/plain": [
              "tensor([[1.4373, 1.8437, 0.4618],\n",
              "        [0.1247, 0.7709, 0.7880]])"
            ]
          },
          "metadata": {},
          "execution_count": 30
        }
      ]
    },
    {
      "cell_type": "code",
      "source": [
        "# @title copying a tensor"
      ],
      "metadata": {
        "id": "lF7LW9GsdKUC"
      },
      "execution_count": 31,
      "outputs": []
    },
    {
      "cell_type": "code",
      "source": [
        "a = torch.rand(2,3)\n",
        "print(a)\n",
        "b=a\n",
        "print(b)\n",
        "a[0][0]=0\n",
        "print(a)\n",
        "print(b)\n",
        "#the changes are seen on b also"
      ],
      "metadata": {
        "colab": {
          "base_uri": "https://localhost:8080/"
        },
        "id": "zmQytzk4dT9C",
        "outputId": "5a7b6c0c-769a-42c9-c4cd-502cdd3fd36a"
      },
      "execution_count": 39,
      "outputs": [
        {
          "output_type": "stream",
          "name": "stdout",
          "text": [
            "tensor([[0.6294, 0.7019, 0.9606],\n",
            "        [0.7561, 0.8652, 0.1769]])\n",
            "tensor([[0.6294, 0.7019, 0.9606],\n",
            "        [0.7561, 0.8652, 0.1769]])\n",
            "tensor([[0.0000, 0.7019, 0.9606],\n",
            "        [0.7561, 0.8652, 0.1769]])\n",
            "tensor([[0.0000, 0.7019, 0.9606],\n",
            "        [0.7561, 0.8652, 0.1769]])\n"
          ]
        }
      ]
    },
    {
      "cell_type": "code",
      "source": [
        "print(id(a), id(b))\n",
        "#same memory location"
      ],
      "metadata": {
        "colab": {
          "base_uri": "https://localhost:8080/"
        },
        "id": "0-9dMqh6dXQ3",
        "outputId": "abd03f24-54a2-41c9-fd0e-1876f5a45810"
      },
      "execution_count": 40,
      "outputs": [
        {
          "output_type": "stream",
          "name": "stdout",
          "text": [
            "138336069593200 138336069593200\n"
          ]
        }
      ]
    },
    {
      "cell_type": "code",
      "source": [
        "b=a.clone()\n",
        "a[0][0]=10\n",
        "print(a)\n",
        "print(b)\n",
        "#changes not reflected in b\n",
        "print(id(a),id(b))"
      ],
      "metadata": {
        "colab": {
          "base_uri": "https://localhost:8080/"
        },
        "id": "9hzu76_ddakT",
        "outputId": "911b7dc1-b48c-46d3-9283-9e72189fe933"
      },
      "execution_count": 44,
      "outputs": [
        {
          "output_type": "stream",
          "name": "stdout",
          "text": [
            "tensor([[10.0000,  0.7019,  0.9606],\n",
            "        [ 0.7561,  0.8652,  0.1769]])\n",
            "tensor([[10.0000,  0.7019,  0.9606],\n",
            "        [ 0.7561,  0.8652,  0.1769]])\n",
            "138336069593200 138336069537808\n"
          ]
        }
      ]
    },
    {
      "cell_type": "code",
      "source": [
        "# @title tensor operations on gpu"
      ],
      "metadata": {
        "cellView": "form",
        "id": "1_2d53Uqdhao"
      },
      "execution_count": 45,
      "outputs": []
    },
    {
      "cell_type": "code",
      "source": [
        "torch.cuda.is_available()"
      ],
      "metadata": {
        "colab": {
          "base_uri": "https://localhost:8080/"
        },
        "id": "M3hG3MgLeMy5",
        "outputId": "ea3f0162-55f2-4f74-a367-7d7907fb3596"
      },
      "execution_count": 46,
      "outputs": [
        {
          "output_type": "execute_result",
          "data": {
            "text/plain": [
              "True"
            ]
          },
          "metadata": {},
          "execution_count": 46
        }
      ]
    },
    {
      "cell_type": "code",
      "source": [
        "device=torch.device('cuda')"
      ],
      "metadata": {
        "id": "d3r6i7N5gDY8"
      },
      "execution_count": 47,
      "outputs": []
    },
    {
      "cell_type": "code",
      "source": [
        "#creating new tensor in gpu\n",
        "torch.rand(size=(2,3),device=device)"
      ],
      "metadata": {
        "colab": {
          "base_uri": "https://localhost:8080/"
        },
        "id": "FGqm-E9tgGxf",
        "outputId": "65eaa926-4438-4587-86ca-8eb691b54697"
      },
      "execution_count": 49,
      "outputs": [
        {
          "output_type": "execute_result",
          "data": {
            "text/plain": [
              "tensor([[0.6338, 0.7192, 0.6275],\n",
              "        [0.2544, 0.7653, 0.0248]], device='cuda:0')"
            ]
          },
          "metadata": {},
          "execution_count": 49
        }
      ]
    },
    {
      "cell_type": "code",
      "source": [
        "#moving a tensor to gpu\n",
        "b=a.to(device)"
      ],
      "metadata": {
        "colab": {
          "base_uri": "https://localhost:8080/"
        },
        "id": "tH23GVNUgTp6",
        "outputId": "6e791a67-c745-431d-a988-99c295b01e07"
      },
      "execution_count": 51,
      "outputs": [
        {
          "output_type": "execute_result",
          "data": {
            "text/plain": [
              "tensor([[10.0000,  0.7019,  0.9606],\n",
              "        [ 0.7561,  0.8652,  0.1769]], device='cuda:0')"
            ]
          },
          "metadata": {},
          "execution_count": 51
        }
      ]
    },
    {
      "cell_type": "code",
      "source": [
        "# @title reshaping tensors"
      ],
      "metadata": {
        "cellView": "form",
        "id": "KAfOHekagbeO"
      },
      "execution_count": 52,
      "outputs": []
    },
    {
      "cell_type": "code",
      "source": [
        "u=torch.ones(4,4)\n",
        "u"
      ],
      "metadata": {
        "colab": {
          "base_uri": "https://localhost:8080/"
        },
        "id": "66U-Jo9igyq-",
        "outputId": "a26270c4-4925-4667-a465-23790b93cc82"
      },
      "execution_count": 54,
      "outputs": [
        {
          "output_type": "execute_result",
          "data": {
            "text/plain": [
              "tensor([[1., 1., 1., 1.],\n",
              "        [1., 1., 1., 1.],\n",
              "        [1., 1., 1., 1.],\n",
              "        [1., 1., 1., 1.]])"
            ]
          },
          "metadata": {},
          "execution_count": 54
        }
      ]
    },
    {
      "cell_type": "code",
      "source": [
        "#reshape\n",
        "u.reshape(2,2,2,2)"
      ],
      "metadata": {
        "colab": {
          "base_uri": "https://localhost:8080/"
        },
        "id": "PPFDeBJ_iD3r",
        "outputId": "d51a1def-0504-4a77-c7b6-af971bb8b6c2"
      },
      "execution_count": 55,
      "outputs": [
        {
          "output_type": "execute_result",
          "data": {
            "text/plain": [
              "tensor([[[[1., 1.],\n",
              "          [1., 1.]],\n",
              "\n",
              "         [[1., 1.],\n",
              "          [1., 1.]]],\n",
              "\n",
              "\n",
              "        [[[1., 1.],\n",
              "          [1., 1.]],\n",
              "\n",
              "         [[1., 1.],\n",
              "          [1., 1.]]]])"
            ]
          },
          "metadata": {},
          "execution_count": 55
        }
      ]
    },
    {
      "cell_type": "code",
      "source": [
        "#flatten\n",
        "u.flatten()"
      ],
      "metadata": {
        "colab": {
          "base_uri": "https://localhost:8080/"
        },
        "id": "NXZJqkHDiMF6",
        "outputId": "304cc972-63d4-4934-a1df-a51e52466364"
      },
      "execution_count": 56,
      "outputs": [
        {
          "output_type": "execute_result",
          "data": {
            "text/plain": [
              "tensor([1., 1., 1., 1., 1., 1., 1., 1., 1., 1., 1., 1., 1., 1., 1., 1.])"
            ]
          },
          "metadata": {},
          "execution_count": 56
        }
      ]
    },
    {
      "cell_type": "code",
      "source": [
        "#permute\n",
        "v=torch.rand(2,3,4)\n",
        "#2,3,4 are dimensions 0,1,2\n",
        "print(v)\n",
        "print(\"\")\n",
        "v.permute(2,0,1)\n",
        "#2,0,1 refer to the dimension (2,3,4 get swapped according to the given order of 2,0,1)\n",
        "v.permute(2,0,1).shape"
      ],
      "metadata": {
        "colab": {
          "base_uri": "https://localhost:8080/"
        },
        "id": "Dno-Rqd3iPf1",
        "outputId": "18fb8544-65db-4f1b-a1de-224583e73a47"
      },
      "execution_count": 62,
      "outputs": [
        {
          "output_type": "stream",
          "name": "stdout",
          "text": [
            "tensor([[[0.4643, 0.8991, 0.4452, 0.7371],\n",
            "         [0.2015, 0.9942, 0.6765, 0.1524],\n",
            "         [0.8694, 0.4688, 0.0455, 0.3163]],\n",
            "\n",
            "        [[0.1812, 0.8792, 0.2932, 0.1534],\n",
            "         [0.7903, 0.3077, 0.7754, 0.7675],\n",
            "         [0.9756, 0.8119, 0.0750, 0.5996]]])\n",
            "\n"
          ]
        },
        {
          "output_type": "execute_result",
          "data": {
            "text/plain": [
              "torch.Size([4, 2, 3])"
            ]
          },
          "metadata": {},
          "execution_count": 62
        }
      ]
    },
    {
      "cell_type": "code",
      "source": [
        "#unsqueeze\n",
        "#image size\n",
        "c=torch.rand(226,226,3)\n",
        "print(c.unsqueeze(0).shape) #u add a new dimension at 0\n",
        "print(c.unsqueeze(1).shape)"
      ],
      "metadata": {
        "colab": {
          "base_uri": "https://localhost:8080/"
        },
        "id": "Q2CwD96NiUix",
        "outputId": "f5d48aa7-f0d9-42a1-cf1d-cf3eaadc516b"
      },
      "execution_count": 64,
      "outputs": [
        {
          "output_type": "stream",
          "name": "stdout",
          "text": [
            "torch.Size([1, 226, 226, 3])\n",
            "torch.Size([226, 1, 226, 3])\n"
          ]
        }
      ]
    },
    {
      "cell_type": "code",
      "source": [
        "#squeeze\n",
        "d=torch.rand(1,20)\n",
        "d.squeeze(0).shape #removes the dimension at dimension 0"
      ],
      "metadata": {
        "colab": {
          "base_uri": "https://localhost:8080/"
        },
        "id": "USvs4Rv_pSPr",
        "outputId": "131eb849-a0e2-4fe0-e356-30822eee06d4"
      },
      "execution_count": 65,
      "outputs": [
        {
          "output_type": "execute_result",
          "data": {
            "text/plain": [
              "torch.Size([20])"
            ]
          },
          "metadata": {},
          "execution_count": 65
        }
      ]
    },
    {
      "cell_type": "code",
      "source": [
        "# @title numpy and pytorch"
      ],
      "metadata": {
        "id": "MoQeyIvYpnl_"
      },
      "execution_count": 66,
      "outputs": []
    },
    {
      "cell_type": "code",
      "source": [
        "  import numpy as np"
      ],
      "metadata": {
        "id": "mS55wIE_pv62"
      },
      "execution_count": 67,
      "outputs": []
    },
    {
      "cell_type": "code",
      "source": [
        "a=torch.tensor([1,2,3])\n",
        "a"
      ],
      "metadata": {
        "colab": {
          "base_uri": "https://localhost:8080/"
        },
        "id": "-ecs3apFpyeA",
        "outputId": "41f812f9-d223-4750-9362-9ce49d52d09f"
      },
      "execution_count": 69,
      "outputs": [
        {
          "output_type": "execute_result",
          "data": {
            "text/plain": [
              "tensor([1, 2, 3])"
            ]
          },
          "metadata": {},
          "execution_count": 69
        }
      ]
    },
    {
      "cell_type": "code",
      "source": [
        "b=a.numpy()\n",
        "print(type(b))\n",
        "b\n"
      ],
      "metadata": {
        "colab": {
          "base_uri": "https://localhost:8080/"
        },
        "id": "9kA8U0kBqbWH",
        "outputId": "cb0b455a-4879-4c24-9316-cf27b2ed46c2"
      },
      "execution_count": 74,
      "outputs": [
        {
          "output_type": "stream",
          "name": "stdout",
          "text": [
            "<class 'numpy.ndarray'>\n"
          ]
        },
        {
          "output_type": "execute_result",
          "data": {
            "text/plain": [
              "array([1, 2, 3])"
            ]
          },
          "metadata": {},
          "execution_count": 74
        }
      ]
    }
  ]
}